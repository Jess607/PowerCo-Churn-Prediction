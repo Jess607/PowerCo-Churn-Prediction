{
 "cells": [
  {
   "cell_type": "markdown",
   "id": "a207638d-2d90-4a41-81e0-f86b35a174f9",
   "metadata": {},
   "source": [
    "# Exploratory Data Analysis \n",
    "\n"
   ]
  },
  {
   "cell_type": "markdown",
   "id": "ce4540a9",
   "metadata": {},
   "source": [
    "__We are provided with two datasets. One which includes features of SME customers in January 2016 as well as the information about whether or not they have churned by March 2016 and another with the prices from 2015 for these customers.\n",
    "Of particular interest is the review of price sensitivity how it correlates and could possibly be a causative of churn of customers.__"
   ]
  },
  {
   "cell_type": "code",
   "execution_count": 1,
   "id": "21fa22a3-62fc-4ee9-ad3b-5e3fbc059bdf",
   "metadata": {},
   "outputs": [],
   "source": [
    "import matplotlib.pyplot as plt\n",
    "import seaborn as sns\n",
    "import pandas as pd\n",
    "import numpy as np\n",
    "pd.set_option('display.max_columns', None)\n",
    "\n",
    "# Shows plots in jupyter notebook\n",
    "%matplotlib inline\n",
    "\n",
    "# Set plot style\n",
    "sns.set(color_codes=True)"
   ]
  },
  {
   "cell_type": "markdown",
   "id": "88cb5312-cbc0-4193-b84e-2c94455c9edf",
   "metadata": {},
   "source": [
    "\n",
    "\n",
    "## Loading data with Pandas\n",
    "\n",
    "We need to load `client_data.csv` and `price_data.csv` into individual dataframes so that we can work with them in Python. "
   ]
  },
  {
   "cell_type": "code",
   "execution_count": 2,
   "id": "82e6a4ae-2b8a-4152-b04f-0c998466fd50",
   "metadata": {},
   "outputs": [
    {
     "ename": "FileNotFoundError",
     "evalue": "[Errno 2] No such file or directory: './client_data.csv'",
     "output_type": "error",
     "traceback": [
      "\u001b[1;31m---------------------------------------------------------------------------\u001b[0m",
      "\u001b[1;31mFileNotFoundError\u001b[0m                         Traceback (most recent call last)",
      "Cell \u001b[1;32mIn [2], line 1\u001b[0m\n\u001b[1;32m----> 1\u001b[0m client_df \u001b[38;5;241m=\u001b[39m pd\u001b[38;5;241m.\u001b[39mread_csv(\u001b[38;5;124m'\u001b[39m\u001b[38;5;124m./client_data.csv\u001b[39m\u001b[38;5;124m'\u001b[39m)\n\u001b[0;32m      2\u001b[0m price_df \u001b[38;5;241m=\u001b[39m pd\u001b[38;5;241m.\u001b[39mread_csv(\u001b[38;5;124m'\u001b[39m\u001b[38;5;124m./price_data.csv\u001b[39m\u001b[38;5;124m'\u001b[39m)\n",
      "File \u001b[1;32m~\\anaconda3\\lib\\site-packages\\pandas\\util\\_decorators.py:311\u001b[0m, in \u001b[0;36mdeprecate_nonkeyword_arguments.<locals>.decorate.<locals>.wrapper\u001b[1;34m(*args, **kwargs)\u001b[0m\n\u001b[0;32m    305\u001b[0m \u001b[38;5;28;01mif\u001b[39;00m \u001b[38;5;28mlen\u001b[39m(args) \u001b[38;5;241m>\u001b[39m num_allow_args:\n\u001b[0;32m    306\u001b[0m     warnings\u001b[38;5;241m.\u001b[39mwarn(\n\u001b[0;32m    307\u001b[0m         msg\u001b[38;5;241m.\u001b[39mformat(arguments\u001b[38;5;241m=\u001b[39marguments),\n\u001b[0;32m    308\u001b[0m         \u001b[38;5;167;01mFutureWarning\u001b[39;00m,\n\u001b[0;32m    309\u001b[0m         stacklevel\u001b[38;5;241m=\u001b[39mstacklevel,\n\u001b[0;32m    310\u001b[0m     )\n\u001b[1;32m--> 311\u001b[0m \u001b[38;5;28;01mreturn\u001b[39;00m func(\u001b[38;5;241m*\u001b[39margs, \u001b[38;5;241m*\u001b[39m\u001b[38;5;241m*\u001b[39mkwargs)\n",
      "File \u001b[1;32m~\\anaconda3\\lib\\site-packages\\pandas\\io\\parsers\\readers.py:586\u001b[0m, in \u001b[0;36mread_csv\u001b[1;34m(filepath_or_buffer, sep, delimiter, header, names, index_col, usecols, squeeze, prefix, mangle_dupe_cols, dtype, engine, converters, true_values, false_values, skipinitialspace, skiprows, skipfooter, nrows, na_values, keep_default_na, na_filter, verbose, skip_blank_lines, parse_dates, infer_datetime_format, keep_date_col, date_parser, dayfirst, cache_dates, iterator, chunksize, compression, thousands, decimal, lineterminator, quotechar, quoting, doublequote, escapechar, comment, encoding, encoding_errors, dialect, error_bad_lines, warn_bad_lines, on_bad_lines, delim_whitespace, low_memory, memory_map, float_precision, storage_options)\u001b[0m\n\u001b[0;32m    571\u001b[0m kwds_defaults \u001b[38;5;241m=\u001b[39m _refine_defaults_read(\n\u001b[0;32m    572\u001b[0m     dialect,\n\u001b[0;32m    573\u001b[0m     delimiter,\n\u001b[1;32m   (...)\u001b[0m\n\u001b[0;32m    582\u001b[0m     defaults\u001b[38;5;241m=\u001b[39m{\u001b[38;5;124m\"\u001b[39m\u001b[38;5;124mdelimiter\u001b[39m\u001b[38;5;124m\"\u001b[39m: \u001b[38;5;124m\"\u001b[39m\u001b[38;5;124m,\u001b[39m\u001b[38;5;124m\"\u001b[39m},\n\u001b[0;32m    583\u001b[0m )\n\u001b[0;32m    584\u001b[0m kwds\u001b[38;5;241m.\u001b[39mupdate(kwds_defaults)\n\u001b[1;32m--> 586\u001b[0m \u001b[38;5;28;01mreturn\u001b[39;00m \u001b[43m_read\u001b[49m\u001b[43m(\u001b[49m\u001b[43mfilepath_or_buffer\u001b[49m\u001b[43m,\u001b[49m\u001b[43m \u001b[49m\u001b[43mkwds\u001b[49m\u001b[43m)\u001b[49m\n",
      "File \u001b[1;32m~\\anaconda3\\lib\\site-packages\\pandas\\io\\parsers\\readers.py:482\u001b[0m, in \u001b[0;36m_read\u001b[1;34m(filepath_or_buffer, kwds)\u001b[0m\n\u001b[0;32m    479\u001b[0m _validate_names(kwds\u001b[38;5;241m.\u001b[39mget(\u001b[38;5;124m\"\u001b[39m\u001b[38;5;124mnames\u001b[39m\u001b[38;5;124m\"\u001b[39m, \u001b[38;5;28;01mNone\u001b[39;00m))\n\u001b[0;32m    481\u001b[0m \u001b[38;5;66;03m# Create the parser.\u001b[39;00m\n\u001b[1;32m--> 482\u001b[0m parser \u001b[38;5;241m=\u001b[39m TextFileReader(filepath_or_buffer, \u001b[38;5;241m*\u001b[39m\u001b[38;5;241m*\u001b[39mkwds)\n\u001b[0;32m    484\u001b[0m \u001b[38;5;28;01mif\u001b[39;00m chunksize \u001b[38;5;129;01mor\u001b[39;00m iterator:\n\u001b[0;32m    485\u001b[0m     \u001b[38;5;28;01mreturn\u001b[39;00m parser\n",
      "File \u001b[1;32m~\\anaconda3\\lib\\site-packages\\pandas\\io\\parsers\\readers.py:811\u001b[0m, in \u001b[0;36mTextFileReader.__init__\u001b[1;34m(self, f, engine, **kwds)\u001b[0m\n\u001b[0;32m    808\u001b[0m \u001b[38;5;28;01mif\u001b[39;00m \u001b[38;5;124m\"\u001b[39m\u001b[38;5;124mhas_index_names\u001b[39m\u001b[38;5;124m\"\u001b[39m \u001b[38;5;129;01min\u001b[39;00m kwds:\n\u001b[0;32m    809\u001b[0m     \u001b[38;5;28mself\u001b[39m\u001b[38;5;241m.\u001b[39moptions[\u001b[38;5;124m\"\u001b[39m\u001b[38;5;124mhas_index_names\u001b[39m\u001b[38;5;124m\"\u001b[39m] \u001b[38;5;241m=\u001b[39m kwds[\u001b[38;5;124m\"\u001b[39m\u001b[38;5;124mhas_index_names\u001b[39m\u001b[38;5;124m\"\u001b[39m]\n\u001b[1;32m--> 811\u001b[0m \u001b[38;5;28mself\u001b[39m\u001b[38;5;241m.\u001b[39m_engine \u001b[38;5;241m=\u001b[39m \u001b[38;5;28;43mself\u001b[39;49m\u001b[38;5;241;43m.\u001b[39;49m\u001b[43m_make_engine\u001b[49m\u001b[43m(\u001b[49m\u001b[38;5;28;43mself\u001b[39;49m\u001b[38;5;241;43m.\u001b[39;49m\u001b[43mengine\u001b[49m\u001b[43m)\u001b[49m\n",
      "File \u001b[1;32m~\\anaconda3\\lib\\site-packages\\pandas\\io\\parsers\\readers.py:1040\u001b[0m, in \u001b[0;36mTextFileReader._make_engine\u001b[1;34m(self, engine)\u001b[0m\n\u001b[0;32m   1036\u001b[0m     \u001b[38;5;28;01mraise\u001b[39;00m \u001b[38;5;167;01mValueError\u001b[39;00m(\n\u001b[0;32m   1037\u001b[0m         \u001b[38;5;124mf\u001b[39m\u001b[38;5;124m\"\u001b[39m\u001b[38;5;124mUnknown engine: \u001b[39m\u001b[38;5;132;01m{\u001b[39;00mengine\u001b[38;5;132;01m}\u001b[39;00m\u001b[38;5;124m (valid options are \u001b[39m\u001b[38;5;132;01m{\u001b[39;00mmapping\u001b[38;5;241m.\u001b[39mkeys()\u001b[38;5;132;01m}\u001b[39;00m\u001b[38;5;124m)\u001b[39m\u001b[38;5;124m\"\u001b[39m\n\u001b[0;32m   1038\u001b[0m     )\n\u001b[0;32m   1039\u001b[0m \u001b[38;5;66;03m# error: Too many arguments for \"ParserBase\"\u001b[39;00m\n\u001b[1;32m-> 1040\u001b[0m \u001b[38;5;28;01mreturn\u001b[39;00m mapping[engine](\u001b[38;5;28mself\u001b[39m\u001b[38;5;241m.\u001b[39mf, \u001b[38;5;241m*\u001b[39m\u001b[38;5;241m*\u001b[39m\u001b[38;5;28mself\u001b[39m\u001b[38;5;241m.\u001b[39moptions)\n",
      "File \u001b[1;32m~\\anaconda3\\lib\\site-packages\\pandas\\io\\parsers\\c_parser_wrapper.py:51\u001b[0m, in \u001b[0;36mCParserWrapper.__init__\u001b[1;34m(self, src, **kwds)\u001b[0m\n\u001b[0;32m     48\u001b[0m kwds[\u001b[38;5;124m\"\u001b[39m\u001b[38;5;124musecols\u001b[39m\u001b[38;5;124m\"\u001b[39m] \u001b[38;5;241m=\u001b[39m \u001b[38;5;28mself\u001b[39m\u001b[38;5;241m.\u001b[39musecols\n\u001b[0;32m     50\u001b[0m \u001b[38;5;66;03m# open handles\u001b[39;00m\n\u001b[1;32m---> 51\u001b[0m \u001b[38;5;28;43mself\u001b[39;49m\u001b[38;5;241;43m.\u001b[39;49m\u001b[43m_open_handles\u001b[49m\u001b[43m(\u001b[49m\u001b[43msrc\u001b[49m\u001b[43m,\u001b[49m\u001b[43m \u001b[49m\u001b[43mkwds\u001b[49m\u001b[43m)\u001b[49m\n\u001b[0;32m     52\u001b[0m \u001b[38;5;28;01massert\u001b[39;00m \u001b[38;5;28mself\u001b[39m\u001b[38;5;241m.\u001b[39mhandles \u001b[38;5;129;01mis\u001b[39;00m \u001b[38;5;129;01mnot\u001b[39;00m \u001b[38;5;28;01mNone\u001b[39;00m\n\u001b[0;32m     54\u001b[0m \u001b[38;5;66;03m# Have to pass int, would break tests using TextReader directly otherwise :(\u001b[39;00m\n",
      "File \u001b[1;32m~\\anaconda3\\lib\\site-packages\\pandas\\io\\parsers\\base_parser.py:222\u001b[0m, in \u001b[0;36mParserBase._open_handles\u001b[1;34m(self, src, kwds)\u001b[0m\n\u001b[0;32m    218\u001b[0m \u001b[38;5;28;01mdef\u001b[39;00m \u001b[38;5;21m_open_handles\u001b[39m(\u001b[38;5;28mself\u001b[39m, src: FilePathOrBuffer, kwds: \u001b[38;5;28mdict\u001b[39m[\u001b[38;5;28mstr\u001b[39m, Any]) \u001b[38;5;241m-\u001b[39m\u001b[38;5;241m>\u001b[39m \u001b[38;5;28;01mNone\u001b[39;00m:\n\u001b[0;32m    219\u001b[0m     \u001b[38;5;124;03m\"\"\"\u001b[39;00m\n\u001b[0;32m    220\u001b[0m \u001b[38;5;124;03m    Let the readers open IOHandles after they are done with their potential raises.\u001b[39;00m\n\u001b[0;32m    221\u001b[0m \u001b[38;5;124;03m    \"\"\"\u001b[39;00m\n\u001b[1;32m--> 222\u001b[0m     \u001b[38;5;28mself\u001b[39m\u001b[38;5;241m.\u001b[39mhandles \u001b[38;5;241m=\u001b[39m \u001b[43mget_handle\u001b[49m\u001b[43m(\u001b[49m\n\u001b[0;32m    223\u001b[0m \u001b[43m        \u001b[49m\u001b[43msrc\u001b[49m\u001b[43m,\u001b[49m\n\u001b[0;32m    224\u001b[0m \u001b[43m        \u001b[49m\u001b[38;5;124;43m\"\u001b[39;49m\u001b[38;5;124;43mr\u001b[39;49m\u001b[38;5;124;43m\"\u001b[39;49m\u001b[43m,\u001b[49m\n\u001b[0;32m    225\u001b[0m \u001b[43m        \u001b[49m\u001b[43mencoding\u001b[49m\u001b[38;5;241;43m=\u001b[39;49m\u001b[43mkwds\u001b[49m\u001b[38;5;241;43m.\u001b[39;49m\u001b[43mget\u001b[49m\u001b[43m(\u001b[49m\u001b[38;5;124;43m\"\u001b[39;49m\u001b[38;5;124;43mencoding\u001b[39;49m\u001b[38;5;124;43m\"\u001b[39;49m\u001b[43m,\u001b[49m\u001b[43m \u001b[49m\u001b[38;5;28;43;01mNone\u001b[39;49;00m\u001b[43m)\u001b[49m\u001b[43m,\u001b[49m\n\u001b[0;32m    226\u001b[0m \u001b[43m        \u001b[49m\u001b[43mcompression\u001b[49m\u001b[38;5;241;43m=\u001b[39;49m\u001b[43mkwds\u001b[49m\u001b[38;5;241;43m.\u001b[39;49m\u001b[43mget\u001b[49m\u001b[43m(\u001b[49m\u001b[38;5;124;43m\"\u001b[39;49m\u001b[38;5;124;43mcompression\u001b[39;49m\u001b[38;5;124;43m\"\u001b[39;49m\u001b[43m,\u001b[49m\u001b[43m \u001b[49m\u001b[38;5;28;43;01mNone\u001b[39;49;00m\u001b[43m)\u001b[49m\u001b[43m,\u001b[49m\n\u001b[0;32m    227\u001b[0m \u001b[43m        \u001b[49m\u001b[43mmemory_map\u001b[49m\u001b[38;5;241;43m=\u001b[39;49m\u001b[43mkwds\u001b[49m\u001b[38;5;241;43m.\u001b[39;49m\u001b[43mget\u001b[49m\u001b[43m(\u001b[49m\u001b[38;5;124;43m\"\u001b[39;49m\u001b[38;5;124;43mmemory_map\u001b[39;49m\u001b[38;5;124;43m\"\u001b[39;49m\u001b[43m,\u001b[49m\u001b[43m \u001b[49m\u001b[38;5;28;43;01mFalse\u001b[39;49;00m\u001b[43m)\u001b[49m\u001b[43m,\u001b[49m\n\u001b[0;32m    228\u001b[0m \u001b[43m        \u001b[49m\u001b[43mstorage_options\u001b[49m\u001b[38;5;241;43m=\u001b[39;49m\u001b[43mkwds\u001b[49m\u001b[38;5;241;43m.\u001b[39;49m\u001b[43mget\u001b[49m\u001b[43m(\u001b[49m\u001b[38;5;124;43m\"\u001b[39;49m\u001b[38;5;124;43mstorage_options\u001b[39;49m\u001b[38;5;124;43m\"\u001b[39;49m\u001b[43m,\u001b[49m\u001b[43m \u001b[49m\u001b[38;5;28;43;01mNone\u001b[39;49;00m\u001b[43m)\u001b[49m\u001b[43m,\u001b[49m\n\u001b[0;32m    229\u001b[0m \u001b[43m        \u001b[49m\u001b[43merrors\u001b[49m\u001b[38;5;241;43m=\u001b[39;49m\u001b[43mkwds\u001b[49m\u001b[38;5;241;43m.\u001b[39;49m\u001b[43mget\u001b[49m\u001b[43m(\u001b[49m\u001b[38;5;124;43m\"\u001b[39;49m\u001b[38;5;124;43mencoding_errors\u001b[39;49m\u001b[38;5;124;43m\"\u001b[39;49m\u001b[43m,\u001b[49m\u001b[43m \u001b[49m\u001b[38;5;124;43m\"\u001b[39;49m\u001b[38;5;124;43mstrict\u001b[39;49m\u001b[38;5;124;43m\"\u001b[39;49m\u001b[43m)\u001b[49m\u001b[43m,\u001b[49m\n\u001b[0;32m    230\u001b[0m \u001b[43m    \u001b[49m\u001b[43m)\u001b[49m\n",
      "File \u001b[1;32m~\\anaconda3\\lib\\site-packages\\pandas\\io\\common.py:702\u001b[0m, in \u001b[0;36mget_handle\u001b[1;34m(path_or_buf, mode, encoding, compression, memory_map, is_text, errors, storage_options)\u001b[0m\n\u001b[0;32m    697\u001b[0m \u001b[38;5;28;01melif\u001b[39;00m \u001b[38;5;28misinstance\u001b[39m(handle, \u001b[38;5;28mstr\u001b[39m):\n\u001b[0;32m    698\u001b[0m     \u001b[38;5;66;03m# Check whether the filename is to be opened in binary mode.\u001b[39;00m\n\u001b[0;32m    699\u001b[0m     \u001b[38;5;66;03m# Binary mode does not support 'encoding' and 'newline'.\u001b[39;00m\n\u001b[0;32m    700\u001b[0m     \u001b[38;5;28;01mif\u001b[39;00m ioargs\u001b[38;5;241m.\u001b[39mencoding \u001b[38;5;129;01mand\u001b[39;00m \u001b[38;5;124m\"\u001b[39m\u001b[38;5;124mb\u001b[39m\u001b[38;5;124m\"\u001b[39m \u001b[38;5;129;01mnot\u001b[39;00m \u001b[38;5;129;01min\u001b[39;00m ioargs\u001b[38;5;241m.\u001b[39mmode:\n\u001b[0;32m    701\u001b[0m         \u001b[38;5;66;03m# Encoding\u001b[39;00m\n\u001b[1;32m--> 702\u001b[0m         handle \u001b[38;5;241m=\u001b[39m \u001b[38;5;28;43mopen\u001b[39;49m\u001b[43m(\u001b[49m\n\u001b[0;32m    703\u001b[0m \u001b[43m            \u001b[49m\u001b[43mhandle\u001b[49m\u001b[43m,\u001b[49m\n\u001b[0;32m    704\u001b[0m \u001b[43m            \u001b[49m\u001b[43mioargs\u001b[49m\u001b[38;5;241;43m.\u001b[39;49m\u001b[43mmode\u001b[49m\u001b[43m,\u001b[49m\n\u001b[0;32m    705\u001b[0m \u001b[43m            \u001b[49m\u001b[43mencoding\u001b[49m\u001b[38;5;241;43m=\u001b[39;49m\u001b[43mioargs\u001b[49m\u001b[38;5;241;43m.\u001b[39;49m\u001b[43mencoding\u001b[49m\u001b[43m,\u001b[49m\n\u001b[0;32m    706\u001b[0m \u001b[43m            \u001b[49m\u001b[43merrors\u001b[49m\u001b[38;5;241;43m=\u001b[39;49m\u001b[43merrors\u001b[49m\u001b[43m,\u001b[49m\n\u001b[0;32m    707\u001b[0m \u001b[43m            \u001b[49m\u001b[43mnewline\u001b[49m\u001b[38;5;241;43m=\u001b[39;49m\u001b[38;5;124;43m\"\u001b[39;49m\u001b[38;5;124;43m\"\u001b[39;49m\u001b[43m,\u001b[49m\n\u001b[0;32m    708\u001b[0m \u001b[43m        \u001b[49m\u001b[43m)\u001b[49m\n\u001b[0;32m    709\u001b[0m     \u001b[38;5;28;01melse\u001b[39;00m:\n\u001b[0;32m    710\u001b[0m         \u001b[38;5;66;03m# Binary mode\u001b[39;00m\n\u001b[0;32m    711\u001b[0m         handle \u001b[38;5;241m=\u001b[39m \u001b[38;5;28mopen\u001b[39m(handle, ioargs\u001b[38;5;241m.\u001b[39mmode)\n",
      "\u001b[1;31mFileNotFoundError\u001b[0m: [Errno 2] No such file or directory: './client_data.csv'"
     ]
    }
   ],
   "source": [
    "client_df = pd.read_csv('./client_data.csv')\n",
    "price_df = pd.read_csv('./price_data.csv')"
   ]
  },
  {
   "cell_type": "code",
   "execution_count": null,
   "id": "dcf0d488-d3df-4819-a52b-e335c0674e43",
   "metadata": {},
   "outputs": [],
   "source": [
    "client_df.head()"
   ]
  },
  {
   "cell_type": "code",
   "execution_count": null,
   "id": "2654a02d-8cf3-4a18-903e-b4f7f95d8e9e",
   "metadata": {},
   "outputs": [],
   "source": [
    "price_df.head()"
   ]
  },
  {
   "cell_type": "markdown",
   "id": "966c3948-41c0-4183-9118-dd665c58a93c",
   "metadata": {},
   "source": [
    "---\n",
    "\n",
    "## Descriptive statistics of data\n",
    "\n",
    "\n"
   ]
  },
  {
   "cell_type": "markdown",
   "id": "6053b5b8",
   "metadata": {},
   "source": [
    "\n",
    "\n",
    "It is useful to first understand the data that you're dealing with along with the data types of each column. The data types may dictate how you transform and engineer features. We will begin exploration by first going through the client dataframe before the price dataframe"
   ]
  },
  {
   "cell_type": "code",
   "execution_count": null,
   "id": "2dc75b07-c286-4852-bc33-e501782e67d9",
   "metadata": {},
   "outputs": [],
   "source": [
    "client_df.info()"
   ]
  },
  {
   "cell_type": "markdown",
   "id": "3d7e80c5-ef07-47a7-908a-a081b3ebd09e",
   "metadata": {},
   "source": [
    "__Statistics__\n",
    "\n",
    "Now let's look at some statistics about the datasets. We can do this by using the `describe()` method."
   ]
  },
  {
   "cell_type": "code",
   "execution_count": null,
   "id": "60f3010c-ecaf-4b8a-bb87-93bb54cc0c7e",
   "metadata": {},
   "outputs": [],
   "source": [
    "client_df.describe()"
   ]
  },
  {
   "cell_type": "markdown",
   "id": "18d26b8a",
   "metadata": {},
   "source": [
    "Gross and net margin on power subscription denoted by features margin_net_pow_ele and margin_gross_pow_ele seem to have the same values. A possible duplication?"
   ]
  },
  {
   "cell_type": "code",
   "execution_count": null,
   "id": "cc4cb311",
   "metadata": {},
   "outputs": [],
   "source": [
    "client_df.isna().sum()"
   ]
  },
  {
   "cell_type": "markdown",
   "id": "2be0421a",
   "metadata": {},
   "source": [
    "Data has been cleaned so we do not need to undergo any data cleaning activities"
   ]
  },
  {
   "cell_type": "markdown",
   "id": "f7a8dfcd",
   "metadata": {},
   "source": [
    "## Univariate Analysis"
   ]
  },
  {
   "cell_type": "markdown",
   "id": "9f20a55b",
   "metadata": {},
   "source": [
    "Analysis of the individual features of the dataset is necessary to understand their individual data distributions."
   ]
  },
  {
   "cell_type": "markdown",
   "id": "30e46f3d",
   "metadata": {},
   "source": [
    "* CHANNEL_SALES\n",
    "\n",
    "This feature represents the specific category of the company's activity. Like we inferred from our business research, the business type or activity is a potential factor affecting its possibility to churn or remain. "
   ]
  },
  {
   "cell_type": "code",
   "execution_count": null,
   "id": "cffa1f10",
   "metadata": {},
   "outputs": [],
   "source": [
    "client_df['channel_sales'].unique()"
   ]
  },
  {
   "cell_type": "markdown",
   "id": "aa48b83e",
   "metadata": {},
   "source": [
    "By checking unique values, we can tell the activities are encrypted for privacy reasons. However, we seem to have some have data missing denoted with the 'missing' tag. We will visualize the feature to understand the extent of missing data available."
   ]
  },
  {
   "cell_type": "code",
   "execution_count": null,
   "id": "b077d245",
   "metadata": {},
   "outputs": [],
   "source": [
    "plt.figure(figsize=(8,8))\n",
    "total=float(len(client_df['channel_sales']))\n",
    "sen=sns.countplot(x='channel_sales', data=client_df)\n",
    "for g in sen.patches:\n",
    "    height=g.get_height()\n",
    "    sen.text(g.get_x()+g.get_width()/2, height+3, '{:1.2f}%'.format((height/total)*100), ha='center')\n",
    "plt.title('Channel_sales')\n",
    "plt.xlabel('Channel_sales')\n",
    "plt.xticks(rotation=90)\n",
    "plt.show()"
   ]
  },
  {
   "cell_type": "markdown",
   "id": "1ec5fe8a",
   "metadata": {},
   "source": [
    "Interestingly, over 25% of the channel sales features is missing. Quite a good percentage. This would mean we have just under 75% of the data to infer from."
   ]
  },
  {
   "cell_type": "markdown",
   "id": "32371eae",
   "metadata": {},
   "source": [
    "* CONS_12M\n",
    "\n",
    "Electricity consumption of the past 12 months of each client company. We will visualize the distribution of this feature using a histogram.\n"
   ]
  },
  {
   "cell_type": "code",
   "execution_count": null,
   "id": "3409aa30",
   "metadata": {},
   "outputs": [],
   "source": [
    "plt.figure(figsize=[20,6])\n",
    "\n",
    "plt.subplot(1,2,1)\n",
    "client_df['cons_12m'].hist(bins=50)\n",
    "plt.title('Histogram of electricity consumption in the last 12 months')\n",
    "plt.xlabel('Electricity consumption in the last 12 months');\n",
    "\n",
    "plt.subplot(1,2,2)\n",
    "client_df['cons_12m'].hist(bins=50)\n",
    "plt.title('Histogram of electricity consumption in the last 12 months between 0 and 1000000')\n",
    "plt.xlabel('Electricity consumption in the last 12 months')\n",
    "plt.xlim((0,1000000));"
   ]
  },
  {
   "cell_type": "markdown",
   "id": "27255e28",
   "metadata": {},
   "source": [
    "The feature is right skewed with most client companies consuming  less than 200000 units of electricity in the last 12 months. From our descriptive statistics, the highest electricity consumer used over 6 million units. "
   ]
  },
  {
   "cell_type": "markdown",
   "id": "7e17e185",
   "metadata": {},
   "source": [
    "* FORECAST_CONS_12M\n",
    "\n",
    "Forecasted electricity consumption for the next 12 months "
   ]
  },
  {
   "cell_type": "code",
   "execution_count": null,
   "id": "20a1fefe",
   "metadata": {},
   "outputs": [],
   "source": [
    "plt.figure(figsize=[20,6])\n",
    "\n",
    "plt.subplot(1,2,1)\n",
    "client_df['forecast_cons_12m'].hist(bins=50)\n",
    "plt.title('Histogram of forecasted electricity consumption in the next 12 months')\n",
    "plt.xlabel('Forecasted electricity consumption');\n",
    "\n",
    "\n",
    "\n",
    "plt.subplot(1,2,2)\n",
    "client_df['forecast_cons_12m'].hist(bins=40)\n",
    "plt.title('Histogram of forecasted electricity consumption in the next 12 months between 0 and 20000')\n",
    "plt.xlabel('Forecasted electricity consumption')\n",
    "plt.xlim((0,20000));"
   ]
  },
  {
   "cell_type": "markdown",
   "id": "58ee53fc",
   "metadata": {},
   "source": [
    "Compared to the consumption recorded in the last 12 months, the forecasted electricity consumption for the next 12 months is really low. Hopefully, we can deduce a reason why"
   ]
  },
  {
   "cell_type": "markdown",
   "id": "cedb7316",
   "metadata": {},
   "source": [
    "* CONS_GAS_12M\n",
    "\n",
    "Gas consumption of the past 12 months of each client company. From our descriptive statistics, most of the data provided for this feature is zero which could mean most client companies are not gas consumers. We can run some code to confirm this."
   ]
  },
  {
   "cell_type": "code",
   "execution_count": null,
   "id": "ab58ae09",
   "metadata": {},
   "outputs": [],
   "source": [
    "client_df['cons_gas_12m'].value_counts()"
   ]
  },
  {
   "cell_type": "markdown",
   "id": "d3982572",
   "metadata": {},
   "source": [
    "* CONS_LAST_MONTH\n",
    "\n",
    "Electricity consumption of each client company in the last month"
   ]
  },
  {
   "cell_type": "code",
   "execution_count": null,
   "id": "b0452f73",
   "metadata": {},
   "outputs": [],
   "source": [
    "plt.figure(figsize=[20,6])\n",
    "\n",
    "plt.subplot(1,2,1)\n",
    "client_df['cons_last_month'].hist(bins=50)\n",
    "plt.title('Histogram of electricity consumption in the last month')\n",
    "plt.xlabel('Electricity consumption in the last month');\n",
    "\n",
    "plt.subplot(1,2,2)\n",
    "client_df['cons_last_month'].hist(bins=50)\n",
    "plt.title('Histogram of electricity consumption in the last month between 0 and 100000')\n",
    "plt.xlabel('Electricity consumption in the last month')\n",
    "plt.xlim((0,100000));\n"
   ]
  },
  {
   "cell_type": "markdown",
   "id": "3ca65fca",
   "metadata": {},
   "source": [
    "Most client companies consumed less than 20000 electricity units in the last month."
   ]
  },
  {
   "cell_type": "markdown",
   "id": "9fc1749b",
   "metadata": {},
   "source": [
    "* FORECAST_DISCOUNT_ENERGY\n",
    "\n",
    "Forecasted value of current discount\n"
   ]
  },
  {
   "cell_type": "code",
   "execution_count": null,
   "id": "d73b66e0",
   "metadata": {},
   "outputs": [],
   "source": [
    "plt.figure(figsize=[20,6])\n",
    "\n",
    "plt.subplot(1,3,1)\n",
    "client_df['forecast_discount_energy'].hist(bins=40)\n",
    "plt.title('Forecasted discount')\n",
    "plt.xlabel('Forecasted discount');\n",
    "\n",
    "plt.subplot(1,3,2)\n",
    "client_df['forecast_discount_energy'].hist(bins=40)\n",
    "plt.title('Forecasted discount between 0% and 5%')\n",
    "plt.xlabel('Forecasted discount')\n",
    "plt.xlim((0,5));\n",
    "\n",
    "\n",
    "plt.subplot(1,3,3)\n",
    "client_df['forecast_discount_energy'].hist(bins=40)\n",
    "plt.title('Forecasted discount between 20% and 30%')\n",
    "plt.xlabel('Forecasted discount')\n",
    "plt.xlim((20,30));"
   ]
  },
  {
   "cell_type": "markdown",
   "id": "6785eb43",
   "metadata": {},
   "source": [
    "Most client companies have a forecasted discount less than 1%, it will be useful to confirm forecasted discount with consumption because as we understood from our business research, discounts are usually offered based on consumption by client companies leading to smaller companies with less consumption not being able to leverage on them."
   ]
  },
  {
   "cell_type": "markdown",
   "id": "8f53d128",
   "metadata": {},
   "source": [
    "* HAS_GAS\n",
    "\n",
    "Indicates if client company is a gas consumer"
   ]
  },
  {
   "cell_type": "code",
   "execution_count": null,
   "id": "7e0b26b0",
   "metadata": {},
   "outputs": [],
   "source": [
    "plt.figure(figsize=(8,5))\n",
    "total=float(len(client_df['has_gas']))\n",
    "sen=sns.countplot(x='has_gas', data=client_df)\n",
    "for g in sen.patches:\n",
    "    height=g.get_height()\n",
    "    sen.text(g.get_x()+g.get_width()/2, height+3, '{:1.2f}%'.format((height/total)*100), ha='center')\n",
    "plt.title('Gas Customers')\n",
    "plt.xlabel('Gas Customers')\n",
    "plt.show()"
   ]
  },
  {
   "cell_type": "markdown",
   "id": "b9631ec6",
   "metadata": {},
   "source": [
    "Most client companies are not gas consumers as we had previously seen."
   ]
  },
  {
   "cell_type": "markdown",
   "id": "dd0dfebe",
   "metadata": {},
   "source": [
    "* IMP_CONS \n",
    "\n",
    "Current paid consumption of client companies."
   ]
  },
  {
   "cell_type": "code",
   "execution_count": null,
   "id": "0bebd8ad",
   "metadata": {},
   "outputs": [],
   "source": [
    "plt.figure(figsize=(6,6))\n",
    "client_df['imp_cons'].hist(bins=40)\n",
    "plt.title('Histogram of current paid consumption')\n",
    "plt.xlabel('Current paid consumption')\n",
    "plt.xlim((0,2000))\n",
    "plt.show()"
   ]
  },
  {
   "cell_type": "markdown",
   "id": "c672ffdd",
   "metadata": {},
   "source": [
    "Current paid consumption for most client companies is below 500 units"
   ]
  },
  {
   "cell_type": "markdown",
   "id": "22ea96c1",
   "metadata": {},
   "source": [
    "* NB_PROD_ACT\n",
    "\n",
    "Number of active products and services for each client company"
   ]
  },
  {
   "cell_type": "code",
   "execution_count": null,
   "id": "6ba6cce7",
   "metadata": {},
   "outputs": [],
   "source": [
    "plt.figure(figsize=(8,8))\n",
    "total=float(len(client_df['nb_prod_act']))\n",
    "sen=sns.countplot(x='nb_prod_act', data=client_df)\n",
    "for g in sen.patches:\n",
    "    height=g.get_height()\n",
    "    sen.text(g.get_x()+g.get_width()/2, height+3, '{:1.2f}%'.format((height/total)*100), ha='center')\n",
    "plt.title('Number Of Active Products')\n",
    "plt.xlabel('Number of Active Products')\n",
    "plt.show()"
   ]
  },
  {
   "cell_type": "markdown",
   "id": "9dd270e2",
   "metadata": {},
   "source": [
    "Most client companies have just one active product or service running. It is quite uncertain that PowerCo has up to 32 products being offered to client companies but we will definitely keep an eye out for this."
   ]
  },
  {
   "cell_type": "markdown",
   "id": "3a0c8de2",
   "metadata": {},
   "source": [
    "* NUM_YEARS_ANTIG\n",
    "\n",
    "Antiquity of client companies (in number of years)"
   ]
  },
  {
   "cell_type": "code",
   "execution_count": null,
   "id": "68124618",
   "metadata": {},
   "outputs": [],
   "source": [
    "plt.figure(figsize=(4,4))\n",
    "sns.boxplot(x=client_df['num_years_antig'])\n",
    "plt.title('Antiquity of Client companies')\n",
    "plt.show()"
   ]
  },
  {
   "cell_type": "markdown",
   "id": "b7be02c7",
   "metadata": {},
   "source": [
    "Median years of antiquity is 5 years according to the box plot shown."
   ]
  },
  {
   "cell_type": "markdown",
   "id": "0ed801ae",
   "metadata": {},
   "source": [
    "* ORIGIN_UP\n",
    "\n",
    "This is the code of the electricity campaign the customer first subscribed to. We can explore how many electricity campaigns there are and see the one with the most subscriptions."
   ]
  },
  {
   "cell_type": "code",
   "execution_count": null,
   "id": "e43d99e4",
   "metadata": {},
   "outputs": [],
   "source": [
    "client_df['origin_up'].unique()"
   ]
  },
  {
   "cell_type": "code",
   "execution_count": null,
   "id": "838f8cff",
   "metadata": {},
   "outputs": [],
   "source": [
    "plt.figure(figsize=(6,6))\n",
    "total=float(len(client_df['origin_up']))\n",
    "sen=sns.countplot(x='origin_up', data=client_df)\n",
    "for g in sen.patches:\n",
    "    height=g.get_height()\n",
    "    sen.text(g.get_x()+g.get_width()/2, height+3, '{:1.2f}%'.format((height/total)*100), ha='center')\n",
    "plt.title('Electricity campaign first subscribed to')\n",
    "plt.xlabel('Electricity campaign')\n",
    "plt.xticks(rotation=90)\n",
    "plt.show()"
   ]
  },
  {
   "cell_type": "markdown",
   "id": "20c08e71",
   "metadata": {},
   "source": [
    "The electricity campaign first subscribed to might be a factor pointing towards customer satisfaction and service delivery. With close to 50% of the client customers adopting a particular campaign, obviously the campaign offered great incentives and services that most client customers found promising when they started doing business with PowerCo. "
   ]
  },
  {
   "cell_type": "markdown",
   "id": "ce7c33fb",
   "metadata": {},
   "source": [
    "* POW_MAX\n",
    "\n",
    "This is the power subscription of each client company. \n"
   ]
  },
  {
   "cell_type": "code",
   "execution_count": null,
   "id": "b345ed03",
   "metadata": {},
   "outputs": [],
   "source": [
    "plt.figure(figsize=(6,6))\n",
    "sns.boxplot(x=client_df['pow_max'])\n",
    "plt.title('Power Subscription')\n",
    "plt.show()"
   ]
  },
  {
   "cell_type": "code",
   "execution_count": null,
   "id": "3675612c",
   "metadata": {},
   "outputs": [],
   "source": [
    "plt.figure(figsize=(6,6))\n",
    "client_df['pow_max'].hist(bins=40)\n",
    "plt.title('Power Subscription')\n",
    "plt.xlabel('Power Subscription')\n",
    "plt.xlim((0,100))\n",
    "plt.show()"
   ]
  },
  {
   "cell_type": "markdown",
   "id": "a0ba394e",
   "metadata": {},
   "source": [
    "There is a clear right skew distribution with most client companies having a power subscription less than 20 units."
   ]
  },
  {
   "cell_type": "markdown",
   "id": "d9f94f9c",
   "metadata": {},
   "source": [
    "* CHURN\n",
    "\n",
    "Whether customer churned by March 2016"
   ]
  },
  {
   "cell_type": "code",
   "execution_count": null,
   "id": "145111df",
   "metadata": {},
   "outputs": [],
   "source": [
    "plt.figure(figsize=(6,6))\n",
    "total=float(len(client_df['churn']))\n",
    "sen=sns.countplot(x='churn',data=client_df)\n",
    "for g in sen.patches:\n",
    "    height=g.get_height()\n",
    "    sen.text(g.get_x()+g.get_width()/2, height+3, '{:1.2f}%'.format((height/total)*100), ha='center')\n",
    "plt.title('Churn Rate')\n",
    "plt.xlabel('Churn')\n",
    "plt.show()"
   ]
  },
  {
   "cell_type": "markdown",
   "id": "0480a581",
   "metadata": {},
   "source": [
    "PowerCo seems to have experienced close to 10% churn from January to March 2016 which is more than 1400 customers out of the 14606 instances we are provided with."
   ]
  },
  {
   "cell_type": "markdown",
   "id": "d040cf34",
   "metadata": {},
   "source": [
    "## BIVARIATE AND MULTIVARIATE ANALYSIS\n",
    "\n",
    "We will carry out multivariate analysis to understand the relationships between the variables and possibly deduce information useful in determining whether a client company would churn or not."
   ]
  },
  {
   "cell_type": "markdown",
   "id": "2e90dbcc",
   "metadata": {},
   "source": [
    "We will first use a heatmap to visualize the correlation between all continuous variables in the dataframe."
   ]
  },
  {
   "cell_type": "code",
   "execution_count": null,
   "id": "38591f60",
   "metadata": {},
   "outputs": [],
   "source": [
    "plt.figure(figsize=(20,8))\n",
    "sns.heatmap(client_df.corr(), annot=True)\n",
    "plt.title('Client data correlation')\n",
    "plt.show()"
   ]
  },
  {
   "cell_type": "markdown",
   "id": "d63e09a3",
   "metadata": {},
   "source": [
    "From the heatmap, we can observe the following:\n",
    "* There is a high positive correlation between the consumption in the last month and the consumption in the last 12 months.\n",
    "* There is a high positive correlation between the current paid consumption and the forecasted electricity consumption for the next year. This is understandable because it is expected that client companies with high consumption at the certain time would have high consumption in the following year based of current and past consumption. We will have to take note of this when selecting our features because of multicollinearity.\n",
    "* There is a fair positive correlation between forecasted electricity consumption for next 12 months and net margin.\n",
    "* Interestingly, there is no noticeable linear correlation between the electricity consumption in the last 12 months and the forecasted electricity consumption for the next 12 months.\n",
    "* There is a slight positive correlation between the power subscription and the forecast meter rent for the next 12 months.\n",
    "* Like previously pointed out, the gross margin on power subscription and net margin on power subscription are the same|\n"
   ]
  },
  {
   "cell_type": "code",
   "execution_count": null,
   "id": "c764d22c",
   "metadata": {},
   "outputs": [],
   "source": [
    "plt.figure(figsize=[25,12])\n",
    "\n",
    "plt.subplot(2,2,1)\n",
    "sns.boxplot(data=client_df, x='churn', y='cons_12m', showfliers=False)\n",
    "plt.title('Consumption of the past 12 months against churn');\n",
    "\n",
    "\n",
    "plt.subplot(2,2,2)\n",
    "sns.boxplot(data=client_df, x='churn', y='num_years_antig', showfliers=False)\n",
    "plt.title('Number of years of antiquity against churn');\n",
    "\n",
    "\n",
    "plt.subplot(2,2,3)\n",
    "sns.boxplot(data=client_df, x='churn', y='imp_cons', showfliers=False)\n",
    "plt.title('Current paid consumption against churn');\n",
    "\n",
    "plt.subplot(2,2,4)\n",
    "sns.boxplot(data=client_df, x='churn', y='forecast_meter_rent_12m', showfliers=False)\n",
    "plt.title('Forecast meter rent for 12 months');\n",
    "\n",
    "\n"
   ]
  },
  {
   "cell_type": "markdown",
   "id": "1816773e",
   "metadata": {},
   "source": [
    "From the boxplots, there doesn't seem to be much of a difference between both groups. Median values are about the same with slight differences in max values. We can make use of violin plots to offer more insights."
   ]
  },
  {
   "cell_type": "code",
   "execution_count": null,
   "id": "c7b1887f",
   "metadata": {},
   "outputs": [],
   "source": [
    "plt.figure(figsize=[27,12])\n",
    "\n",
    "plt.subplot(2,2,1)\n",
    "sns.violinplot(data=client_df, x='churn', y='cons_12m')\n",
    "plt.title('Consumption of the past 12 months against churn');\n",
    "\n",
    "\n",
    "plt.subplot(2,2,2)\n",
    "sns.violinplot(data=client_df, x='churn', y='num_years_antig')\n",
    "plt.title('Number of years of antiquity against churn');\n",
    "\n",
    "\n",
    "plt.subplot(2,2,3)\n",
    "sns.violinplot(data=client_df, x='churn', y='imp_cons')\n",
    "plt.title('Current paid consumption against churn');\n",
    "\n",
    "plt.subplot(2,2,4)\n",
    "sns.violinplot(data=client_df, x='churn', y='forecast_meter_rent_12m')\n",
    "plt.title('Forecast meter rent for 12 months');\n"
   ]
  },
  {
   "cell_type": "markdown",
   "id": "35cc2933",
   "metadata": {},
   "source": [
    "Although the plots are quite similar, we can see slight differences in the distributions of data for customers that have churned and those that haven't. "
   ]
  },
  {
   "cell_type": "code",
   "execution_count": null,
   "id": "d793b6ff",
   "metadata": {},
   "outputs": [],
   "source": [
    "plt.figure(figsize=(8,8))\n",
    "p=sns.FacetGrid(data=client_df, col='churn')\n",
    "p.map(plt.hist, 'cons_12m', bins=50)\n",
    "plt.xlim((0,200000));\n"
   ]
  },
  {
   "cell_type": "markdown",
   "id": "c307420c",
   "metadata": {},
   "source": [
    "Generally, churned client companies have consumed less electricity in the last 12 months than other customers. "
   ]
  },
  {
   "cell_type": "code",
   "execution_count": null,
   "id": "4c71fcec",
   "metadata": {},
   "outputs": [],
   "source": [
    "plt.figure(figsize=(8,8))\n",
    "p=sns.FacetGrid(data=client_df, col='churn')\n",
    "p.map(plt.hist, 'imp_cons', bins=50)\n",
    "plt.xlim((0,1000));"
   ]
  },
  {
   "cell_type": "markdown",
   "id": "fd3d2a71",
   "metadata": {},
   "source": [
    "Churned client companies current consumption rates are below 200 units. Unlike client companies that have not churned, churned client companies have lower consumption rates."
   ]
  },
  {
   "cell_type": "code",
   "execution_count": null,
   "id": "93b01fb6",
   "metadata": {},
   "outputs": [],
   "source": [
    "plt.figure(figsize=(8,8))\n",
    "p=sns.FacetGrid(data=client_df, col='churn')\n",
    "p.map(plt.hist, 'pow_max', bins=50)\n",
    "plt.xlim((0,40));"
   ]
  },
  {
   "cell_type": "markdown",
   "id": "d46d2370",
   "metadata": {},
   "source": [
    "Unlike the churned client companies with the most power subscriptions between 10 and 20 units, client companies that did not churn have a different distribution."
   ]
  },
  {
   "cell_type": "code",
   "execution_count": null,
   "id": "e3b2a65a",
   "metadata": {},
   "outputs": [],
   "source": [
    "sns.violinplot(data=client_df, x='churn', y='cons_gas_12m')\n",
    "plt.title('Gas consumption in the last 12 months against churn');"
   ]
  },
  {
   "cell_type": "code",
   "execution_count": null,
   "id": "0ac442cd",
   "metadata": {},
   "outputs": [],
   "source": [
    "plt.figure(figsize=(8,8))\n",
    "p=sns.FacetGrid(data=client_df, col='churn')\n",
    "p.map(plt.hist, 'cons_gas_12m', bins=50)\n",
    "plt.xlim((0,100000))"
   ]
  },
  {
   "cell_type": "code",
   "execution_count": null,
   "id": "a5f3bd93",
   "metadata": {},
   "outputs": [],
   "source": [
    "sns.scatterplot(data=client_df, x='cons_last_month', y='cons_12m', hue='churn')\n",
    "plt.title('Consumption in the last month against consumption in the last 12 months')"
   ]
  },
  {
   "cell_type": "markdown",
   "id": "d74651b8",
   "metadata": {},
   "source": [
    "* As we earlier saw from the heatmap, there is a strong correlation between the consumption in the last month and that of the previous 12 months. Churn rate is also evident with lower consumption rates.\n",
    "\n",
    "* From analyses of churn and consumption, it is quite evident churned client companies exhibit low consumption rates in both electricity and gas(for client companies that are also gas customers). \n",
    "\n",
    "* It will be useful to see the discount offered to client companies relative to their consumption."
   ]
  },
  {
   "cell_type": "code",
   "execution_count": null,
   "id": "74464b29",
   "metadata": {},
   "outputs": [],
   "source": [
    "sns.barplot(data=client_df, x='forecast_discount_energy', y='cons_12m', hue='churn')"
   ]
  },
  {
   "cell_type": "code",
   "execution_count": null,
   "id": "155a8385",
   "metadata": {},
   "outputs": [],
   "source": [
    "sns.boxplot(data=client_df, x='forecast_discount_energy', y='cons_12m', showfliers=False)\n",
    "plt.title('Number of years of antiquity against churn');"
   ]
  },
  {
   "cell_type": "markdown",
   "id": "8b55497d",
   "metadata": {},
   "source": [
    "It would not seem that discount is being offered based on consumption. Various factors add up to determine discount on energy."
   ]
  },
  {
   "cell_type": "markdown",
   "id": "7b88c061",
   "metadata": {},
   "source": [
    "Creating a separate dataframe of churned client companies to explore categorical features."
   ]
  },
  {
   "cell_type": "code",
   "execution_count": null,
   "id": "6aa0c68d",
   "metadata": {},
   "outputs": [],
   "source": [
    "client_churn=client_df[client_df['churn']==1]"
   ]
  },
  {
   "cell_type": "code",
   "execution_count": null,
   "id": "6b13de27",
   "metadata": {},
   "outputs": [],
   "source": [
    "plt.figure(figsize=(8,8))\n",
    "total=float(len(client_churn['channel_sales']))\n",
    "sen=sns.countplot(x='channel_sales', data=client_churn)\n",
    "for g in sen.patches:\n",
    "    height=g.get_height()\n",
    "    sen.text(g.get_x()+g.get_width()/2, height+3, '{:1.2f}%'.format((height/total)*100), ha='center')\n",
    "plt.title('Channel sales of churned customers')\n",
    "plt.xlabel('Channel sales')\n",
    "plt.xticks(rotation=90)\n",
    "plt.show()"
   ]
  },
  {
   "cell_type": "markdown",
   "id": "732c4036",
   "metadata": {},
   "source": [
    "More than 50% of the churned customers use the first channel sale which also had the most users in the general client company population."
   ]
  },
  {
   "cell_type": "code",
   "execution_count": null,
   "id": "78823658",
   "metadata": {},
   "outputs": [],
   "source": [
    "plt.figure(figsize=(8,6))\n",
    "total=float(len(client_churn['has_gas']))\n",
    "sen=sns.countplot(x='has_gas', hue='channel_sales', data=client_churn)\n",
    "for g in sen.patches:\n",
    "    height=g.get_height()\n",
    "    sen.text(g.get_x()+g.get_width()/2, height+3, '{:1.2f}%'.format((height/total)*100), ha='center')\n",
    "plt.title('Churned gas customers')\n",
    "plt.xlabel('Gas customers')\n",
    "plt.show()"
   ]
  },
  {
   "cell_type": "markdown",
   "id": "da02487e",
   "metadata": {},
   "source": [
    "Over 15% of the churned client companies are gas customers. Seeing that just over 18% of the total customers are gas customers, about 10% of the gas customers have churned. "
   ]
  },
  {
   "cell_type": "code",
   "execution_count": null,
   "id": "cebcafbb",
   "metadata": {},
   "outputs": [],
   "source": [
    "plt.figure(figsize=(8,6))\n",
    "total=float(len(client_churn['origin_up']))\n",
    "sen=sns.countplot(x='origin_up', data=client_churn)\n",
    "for g in sen.patches:\n",
    "    height=g.get_height()\n",
    "    sen.text(g.get_x()+g.get_width()/2, height+3, '{:1.2f}%'.format((height/total)*100), ha='center')\n",
    "plt.title('Electricity campaign churned customers first subscribed to')\n",
    "plt.xlabel('Electricity campaign')\n",
    "plt.xticks(rotation=90)\n",
    "plt.show()"
   ]
  },
  {
   "cell_type": "markdown",
   "id": "19133e79",
   "metadata": {},
   "source": [
    "The electricity campaign with the most churned customers by proportion also happens to be the electricity campaign with the most customers so this is not irregular. "
   ]
  },
  {
   "cell_type": "code",
   "execution_count": null,
   "id": "b9536855",
   "metadata": {},
   "outputs": [],
   "source": [
    "plt.figure(figsize=(8,6))\n",
    "total=float(len(client_churn['nb_prod_act']))\n",
    "sen=sns.countplot(x='nb_prod_act', data=client_churn)\n",
    "for g in sen.patches:\n",
    "    height=g.get_height()\n",
    "    sen.text(g.get_x()+g.get_width()/2, height+3, '{:1.2f}%'.format((height/total)*100), ha='center')\n",
    "plt.title('Number of product and services for churned customers')\n",
    "plt.xlabel('Number of product and services')\n",
    "plt.show()"
   ]
  },
  {
   "cell_type": "markdown",
   "id": "bd88f018",
   "metadata": {},
   "source": [
    "Price Sensitivity was discussed as a possible factor that affects the churn rate of PowerCo. It would be useful to explore how price of energy and power at various periods affects churn. For this, we will make use of our `price_data.csv`"
   ]
  },
  {
   "cell_type": "markdown",
   "id": "c37b4720",
   "metadata": {},
   "source": [
    "First, we get some descriptive statistics about `price_data.csv`"
   ]
  },
  {
   "cell_type": "markdown",
   "id": "cfa907fa",
   "metadata": {},
   "source": [
    "`Price_data.csv` shows peak, off peak and mid peak energy and power prices for every month in 2015."
   ]
  },
  {
   "cell_type": "code",
   "execution_count": null,
   "id": "93f4b185",
   "metadata": {},
   "outputs": [],
   "source": [
    "price_df.shape"
   ]
  },
  {
   "cell_type": "code",
   "execution_count": null,
   "id": "5460a710",
   "metadata": {},
   "outputs": [],
   "source": [
    "price_df.info()"
   ]
  },
  {
   "cell_type": "code",
   "execution_count": null,
   "id": "dbdcabe8",
   "metadata": {},
   "outputs": [],
   "source": [
    "price_df.describe()"
   ]
  },
  {
   "cell_type": "markdown",
   "id": "c595cf2e",
   "metadata": {},
   "source": [
    "## Creating A Combined Dataframe"
   ]
  },
  {
   "cell_type": "markdown",
   "id": "921db143",
   "metadata": {},
   "source": [
    "Alone, we may not be able to get a lot of information from `price_data.csv`, so we will join it with `client_data.csv`. So we will join both datasets together to create a `combine_df` dataframe."
   ]
  },
  {
   "cell_type": "code",
   "execution_count": null,
   "id": "e580119e",
   "metadata": {},
   "outputs": [],
   "source": [
    "combine_df=client_df.set_index('id').join(price_df.set_index('id'))\n",
    "#Exploring one client company from combined dataframe\n",
    "combine_df.loc['0002203ffbb812588b632b9e628cc38d']\n",
    "\n"
   ]
  },
  {
   "cell_type": "markdown",
   "id": "885ffec5",
   "metadata": {},
   "source": [
    "Grouping dataframe by id for each client company and calculating the mean off peak, peak and mid peak energy prices so we can get an idea of data distribution for each variable. "
   ]
  },
  {
   "cell_type": "markdown",
   "id": "4813a6af",
   "metadata": {},
   "source": [
    "* PRICE_OFF_PEAK_VAR\n",
    "\n",
    "Off peak price of energy"
   ]
  },
  {
   "cell_type": "code",
   "execution_count": null,
   "id": "e55624c9",
   "metadata": {},
   "outputs": [],
   "source": [
    "combine_df.groupby('id').mean()['price_off_peak_var'].hist(bins=30)\n"
   ]
  },
  {
   "cell_type": "markdown",
   "id": "93f7df10",
   "metadata": {},
   "source": [
    "Off peak price has a bimodal distribution which almost looks normally distributed although there's the presence of an outlier at 0.0"
   ]
  },
  {
   "cell_type": "markdown",
   "id": "6eccf1ee",
   "metadata": {},
   "source": [
    "* PRICE_PEAK_VAR\n",
    "\n",
    "Peak price of energy"
   ]
  },
  {
   "cell_type": "code",
   "execution_count": null,
   "id": "643c4012",
   "metadata": {},
   "outputs": [],
   "source": [
    "combine_df.groupby('id').mean()['price_peak_var'].hist(bins=30)\n",
    "plt.title('Histogram of mean peak price price of energy')"
   ]
  },
  {
   "cell_type": "markdown",
   "id": "3bc0f3fe",
   "metadata": {},
   "source": [
    "Most client companies have a mean peak price of less than 0.025 units. There's also a cluster of caround 0.075 and 0.1 units"
   ]
  },
  {
   "cell_type": "markdown",
   "id": "99b7d609",
   "metadata": {},
   "source": [
    "* PRICE_MID_PEAK_VAR\n",
    "\n",
    "Mid peak price of energy"
   ]
  },
  {
   "cell_type": "code",
   "execution_count": null,
   "id": "5c899075",
   "metadata": {},
   "outputs": [],
   "source": [
    "combine_df.groupby('id').mean()['price_mid_peak_var'].hist(bins=30)\n",
    "plt.title('Histogram of mean mid peak price price of energy')"
   ]
  },
  {
   "cell_type": "markdown",
   "id": "7aa76eb3",
   "metadata": {},
   "source": [
    "Quite similar to the peak price, most client companies have a mean mid peak price of 0.0 units."
   ]
  },
  {
   "cell_type": "markdown",
   "id": "c0b95b6e",
   "metadata": {},
   "source": [
    "Exploring the peak, off peak and mid peak energy prices for each month to see how they varied among client companies. "
   ]
  },
  {
   "cell_type": "code",
   "execution_count": null,
   "id": "405cf0b9",
   "metadata": {},
   "outputs": [],
   "source": [
    "plt.figure(figsize=(20,10))\n",
    "p=sns.FacetGrid(data=combine_df, col='price_date', col_wrap=3)\n",
    "p.map_dataframe(plt.hist, 'price_off_peak_var', bins=50)\n"
   ]
  },
  {
   "cell_type": "markdown",
   "id": "07e5b851",
   "metadata": {},
   "source": [
    "From the plot, off peak energy prices started increasing for client companies as the months went by. This could be because of weather changes increasing energy consumption in areas leading to higher prices."
   ]
  },
  {
   "cell_type": "code",
   "execution_count": null,
   "id": "67919e28",
   "metadata": {},
   "outputs": [],
   "source": [
    "plt.figure(figsize=(20,10))\n",
    "p=sns.FacetGrid(data=combine_df, col='price_date', col_wrap=3)\n",
    "p.map_dataframe(plt.hist, 'price_peak_var', bins=50)"
   ]
  },
  {
   "cell_type": "markdown",
   "id": "acb80217",
   "metadata": {},
   "source": [
    "From exploring the data, off peak price seems to be generally higher than peak price. From research, peak price is denotes the price of energy at high demand and should be higher than off peak price. A possible error in labeling?"
   ]
  },
  {
   "cell_type": "markdown",
   "id": "0fbed70a",
   "metadata": {},
   "source": [
    "* PRICE_OFF_PEAK_FIX\n",
    "\n",
    "Off peak price of power \n",
    "\n",
    "* PRICE_PEAK_FIX\n",
    "\n",
    "Peak price of power\n",
    "\n",
    "* PRICE_MID_PEAK_FIX\n",
    "\n",
    "Mid peak price of power"
   ]
  },
  {
   "cell_type": "code",
   "execution_count": null,
   "id": "df95450d",
   "metadata": {},
   "outputs": [],
   "source": [
    "sns.heatmap(combine_df[['price_off_peak_var', 'price_peak_var', 'price_mid_peak_var','price_off_peak_fix', 'price_peak_fix', 'price_mid_peak_fix', 'cons_12m']].corr(), annot=True)"
   ]
  },
  {
   "cell_type": "markdown",
   "id": "1c93e2a1",
   "metadata": {},
   "source": [
    "* There is a high positive correlation between mid peak energy price and peak energy price.\n",
    "* There is a medium negative correlation between off peak energy price and mid peak energy price.\n",
    "* There is a low negative correlation between peak and off peak energy price.\n",
    "* Consumption over the 12 months seems to be poorly correlated with the energy prices and power prices.\n",
    "* Off peak, peak and mid peak power prices of power have a high positive correlation with their corresponding energy prices."
   ]
  },
  {
   "cell_type": "markdown",
   "id": "77617b63",
   "metadata": {},
   "source": [
    "A good idea might be to compare mean energy prices over the year with consumption instead. For this, we will engineer some some new features."
   ]
  },
  {
   "cell_type": "code",
   "execution_count": null,
   "id": "bacd0f8d",
   "metadata": {},
   "outputs": [],
   "source": [
    "combine_df['mean_offpeak'] = combine_df['price_off_peak_var'].groupby('id').transform('mean')"
   ]
  },
  {
   "cell_type": "code",
   "execution_count": null,
   "id": "d94ad980",
   "metadata": {},
   "outputs": [],
   "source": [
    "\n",
    "combine_df['mean_midpeak'] = combine_df['price_mid_peak_var'].groupby('id').transform('mean')\n",
    "combine_df['mean_peak'] = combine_df['price_peak_var'].groupby('id').transform('mean')\n"
   ]
  },
  {
   "cell_type": "code",
   "execution_count": null,
   "id": "354e8ba4",
   "metadata": {},
   "outputs": [],
   "source": [
    "\n",
    "plt.figure(figsize=[30,12])\n",
    "\n",
    "plt.subplot(1,3,1)\n",
    "sns.scatterplot(data=combine_df, x='mean_peak', y='cons_12m', hue='churn')\n",
    "plt.title('Mean peak against Consumption of 12 months')\n",
    "\n",
    "\n",
    "plt.subplot(1,3,2)\n",
    "sns.scatterplot(data=combine_df, x='mean_offpeak', y='cons_12m', hue='churn')\n",
    "plt.title('Mean  off peak against Consumption of 12 months')\n",
    "\n",
    "\n",
    "plt.subplot(1,3,3)\n",
    "sns.scatterplot(data=combine_df, x='mean_midpeak', y='cons_12m', hue='churn')\n",
    "plt.title('Mean  mid peak against Consumption of 12 months')\n",
    "\n"
   ]
  },
  {
   "cell_type": "markdown",
   "id": "384c692b",
   "metadata": {},
   "source": [
    "* From the plot, we can further observe the low consumption of energy by churned client companies. \n",
    "*  The Churned client companies are observed to pay high energy prices for low consumption of energy. \n",
    "* This observation affirms the notion that price sensitivity may be a reason for churn among client companies. Client companies with low energy consumption are observed to be paying high energy prices at peak, mid peak and off peak periods"
   ]
  },
  {
   "cell_type": "code",
   "execution_count": null,
   "id": "8025312b",
   "metadata": {},
   "outputs": [],
   "source": [
    "combine_df.to_csv('combined_dataset.csv')"
   ]
  }
 ],
 "metadata": {
  "kernelspec": {
   "display_name": "Python 3 (ipykernel)",
   "language": "python",
   "name": "python3"
  },
  "language_info": {
   "codemirror_mode": {
    "name": "ipython",
    "version": 3
   },
   "file_extension": ".py",
   "mimetype": "text/x-python",
   "name": "python",
   "nbconvert_exporter": "python",
   "pygments_lexer": "ipython3",
   "version": "3.9.7"
  },
  "vscode": {
   "interpreter": {
    "hash": "6b16867392bc83534431743492b67bc5b509e9474906e9942ae6c69a7b746fb9"
   }
  }
 },
 "nbformat": 4,
 "nbformat_minor": 5
}
